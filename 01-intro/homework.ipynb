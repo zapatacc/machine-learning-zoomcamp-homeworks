{
 "cells": [
  {
   "cell_type": "code",
   "id": "initial_id",
   "metadata": {
    "collapsed": true,
    "ExecuteTime": {
     "end_time": "2024-10-01T01:08:32.410718Z",
     "start_time": "2024-10-01T01:08:32.407198Z"
    }
   },
   "source": "import pandas as pd",
   "outputs": [],
   "execution_count": 4
  },
  {
   "metadata": {
    "ExecuteTime": {
     "end_time": "2024-10-01T01:08:32.969146Z",
     "start_time": "2024-10-01T01:08:32.964347Z"
    }
   },
   "cell_type": "code",
   "source": "pd.__version__",
   "id": "9441065b56fa1c0",
   "outputs": [
    {
     "data": {
      "text/plain": [
       "'2.2.3'"
      ]
     },
     "execution_count": 5,
     "metadata": {},
     "output_type": "execute_result"
    }
   ],
   "execution_count": 5
  },
  {
   "metadata": {
    "ExecuteTime": {
     "end_time": "2024-10-01T01:08:38.892819Z",
     "start_time": "2024-10-01T01:08:38.284749Z"
    }
   },
   "cell_type": "code",
   "source": "df = pd.read_csv('https://raw.githubusercontent.com/alexeygrigorev/datasets/master/laptops.csv')",
   "id": "ff8aea015326c1b0",
   "outputs": [],
   "execution_count": 7
  },
  {
   "metadata": {
    "ExecuteTime": {
     "end_time": "2024-10-01T01:08:53.899169Z",
     "start_time": "2024-10-01T01:08:53.895112Z"
    }
   },
   "cell_type": "code",
   "source": "df.shape",
   "id": "5f30243445cb2ab1",
   "outputs": [
    {
     "data": {
      "text/plain": [
       "(2160, 12)"
      ]
     },
     "execution_count": 8,
     "metadata": {},
     "output_type": "execute_result"
    }
   ],
   "execution_count": 8
  },
  {
   "metadata": {
    "ExecuteTime": {
     "end_time": "2024-10-01T01:09:16.435668Z",
     "start_time": "2024-10-01T01:09:16.431223Z"
    }
   },
   "cell_type": "code",
   "source": "df.columns",
   "id": "2c6cc40cb3649b98",
   "outputs": [
    {
     "data": {
      "text/plain": [
       "Index(['Laptop', 'Status', 'Brand', 'Model', 'CPU', 'RAM', 'Storage',\n",
       "       'Storage type', 'GPU', 'Screen', 'Touch', 'Final Price'],\n",
       "      dtype='object')"
      ]
     },
     "execution_count": 9,
     "metadata": {},
     "output_type": "execute_result"
    }
   ],
   "execution_count": 9
  },
  {
   "metadata": {
    "ExecuteTime": {
     "end_time": "2024-10-01T01:09:32.545591Z",
     "start_time": "2024-10-01T01:09:32.539884Z"
    }
   },
   "cell_type": "code",
   "source": "df[\"Brand\"].nunique()",
   "id": "4d43805719dd6d24",
   "outputs": [
    {
     "data": {
      "text/plain": [
       "27"
      ]
     },
     "execution_count": 10,
     "metadata": {},
     "output_type": "execute_result"
    }
   ],
   "execution_count": 10
  },
  {
   "metadata": {
    "ExecuteTime": {
     "end_time": "2024-10-01T01:12:53.781960Z",
     "start_time": "2024-10-01T01:12:53.774093Z"
    }
   },
   "cell_type": "code",
   "source": "df.isna().sum()",
   "id": "6aba9a728d86f904",
   "outputs": [
    {
     "data": {
      "text/plain": [
       "Laptop             0\n",
       "Status             0\n",
       "Brand              0\n",
       "Model              0\n",
       "CPU                0\n",
       "RAM                0\n",
       "Storage            0\n",
       "Storage type      42\n",
       "GPU             1371\n",
       "Screen             4\n",
       "Touch              0\n",
       "Final Price        0\n",
       "dtype: int64"
      ]
     },
     "execution_count": 12,
     "metadata": {},
     "output_type": "execute_result"
    }
   ],
   "execution_count": 12
  },
  {
   "metadata": {
    "ExecuteTime": {
     "end_time": "2024-10-01T01:13:38.492266Z",
     "start_time": "2024-10-01T01:13:38.487207Z"
    }
   },
   "cell_type": "code",
   "source": "df[\"Brand\"].unique()",
   "id": "257ad65fc1396c04",
   "outputs": [
    {
     "data": {
      "text/plain": [
       "array(['Asus', 'Alurin', 'MSI', 'HP', 'Lenovo', 'Medion', 'Acer', 'Apple',\n",
       "       'Razer', 'Gigabyte', 'Dell', 'LG', 'Samsung', 'PcCom', 'Microsoft',\n",
       "       'Primux', 'Prixton', 'Dynabook Toshiba', 'Thomson', 'Denver',\n",
       "       'Deep Gaming', 'Vant', 'Innjoo', 'Jetwing', 'Millenium', 'Realme',\n",
       "       'Toshiba'], dtype=object)"
      ]
     },
     "execution_count": 14,
     "metadata": {},
     "output_type": "execute_result"
    }
   ],
   "execution_count": 14
  },
  {
   "metadata": {
    "ExecuteTime": {
     "end_time": "2024-10-01T01:14:53.976026Z",
     "start_time": "2024-10-01T01:14:53.969912Z"
    }
   },
   "cell_type": "code",
   "source": "df.loc[df[\"Brand\"] == \"Dell\", \"Final Price\"].max()",
   "id": "3957f41aa4567034",
   "outputs": [
    {
     "data": {
      "text/plain": [
       "np.float64(3936.0)"
      ]
     },
     "execution_count": 19,
     "metadata": {},
     "output_type": "execute_result"
    }
   ],
   "execution_count": 19
  },
  {
   "metadata": {
    "ExecuteTime": {
     "end_time": "2024-10-01T01:16:18.698759Z",
     "start_time": "2024-10-01T01:16:18.694161Z"
    }
   },
   "cell_type": "code",
   "source": "df[\"Screen\"].median()",
   "id": "c9c9b10cad669bf7",
   "outputs": [
    {
     "data": {
      "text/plain": [
       "np.float64(15.6)"
      ]
     },
     "execution_count": 20,
     "metadata": {},
     "output_type": "execute_result"
    }
   ],
   "execution_count": 20
  },
  {
   "metadata": {
    "ExecuteTime": {
     "end_time": "2024-10-01T01:22:15.799748Z",
     "start_time": "2024-10-01T01:22:15.793848Z"
    }
   },
   "cell_type": "code",
   "source": [
    "# count unique values\n",
    "most_freq = df[\"Screen\"].mode()"
   ],
   "id": "f5a9e60e4fac1e3f",
   "outputs": [
    {
     "data": {
      "text/plain": [
       "0    15.6\n",
       "Name: Screen, dtype: float64"
      ]
     },
     "execution_count": 43,
     "metadata": {},
     "output_type": "execute_result"
    }
   ],
   "execution_count": 43
  },
  {
   "metadata": {
    "ExecuteTime": {
     "end_time": "2024-10-01T01:22:40.596963Z",
     "start_time": "2024-10-01T01:22:40.591793Z"
    }
   },
   "cell_type": "code",
   "source": "df[\"Screen\"].fillna(df[\"Screen\"].mode(), inplace=True)",
   "id": "c81df7f42ace7cf0",
   "outputs": [],
   "execution_count": 45
  },
  {
   "metadata": {
    "ExecuteTime": {
     "end_time": "2024-10-01T01:22:44.209265Z",
     "start_time": "2024-10-01T01:22:44.204201Z"
    }
   },
   "cell_type": "code",
   "source": "df[\"Screen\"].median()",
   "id": "baa22d6a4dd6d0ec",
   "outputs": [
    {
     "data": {
      "text/plain": [
       "np.float64(15.6)"
      ]
     },
     "execution_count": 46,
     "metadata": {},
     "output_type": "execute_result"
    }
   ],
   "execution_count": 46
  },
  {
   "metadata": {
    "ExecuteTime": {
     "end_time": "2024-10-01T01:25:06.389099Z",
     "start_time": "2024-10-01T01:25:06.382365Z"
    }
   },
   "cell_type": "code",
   "source": "X = df.loc[df[\"Brand\"] == \"Innjoo\", [\"RAM\", \"Storage\", \"Screen\"]].values",
   "id": "3c6597c263abc053",
   "outputs": [],
   "execution_count": 53
  },
  {
   "metadata": {
    "ExecuteTime": {
     "end_time": "2024-10-01T01:31:38.327807Z",
     "start_time": "2024-10-01T01:31:38.324520Z"
    }
   },
   "cell_type": "code",
   "source": [
    "import numpy as np\n",
    "\n",
    "XTX = X.T@X\n",
    "\n",
    "w = np.dot(np.linalg.inv(XTX)@X.T, np.array([1100, 1300, 800, 900, 1000, 1100]))"
   ],
   "id": "27a009e646b93f0c",
   "outputs": [],
   "execution_count": 60
  },
  {
   "metadata": {
    "ExecuteTime": {
     "end_time": "2024-10-01T01:31:41.684960Z",
     "start_time": "2024-10-01T01:31:41.680241Z"
    }
   },
   "cell_type": "code",
   "source": "w.sum()",
   "id": "933e1e94fea04b13",
   "outputs": [
    {
     "data": {
      "text/plain": [
       "np.float64(91.29988062995947)"
      ]
     },
     "execution_count": 61,
     "metadata": {},
     "output_type": "execute_result"
    }
   ],
   "execution_count": 61
  },
  {
   "metadata": {},
   "cell_type": "code",
   "outputs": [],
   "execution_count": null,
   "source": "",
   "id": "bfb1685e930c427e"
  }
 ],
 "metadata": {
  "kernelspec": {
   "display_name": "Python 3",
   "language": "python",
   "name": "python3"
  },
  "language_info": {
   "codemirror_mode": {
    "name": "ipython",
    "version": 2
   },
   "file_extension": ".py",
   "mimetype": "text/x-python",
   "name": "python",
   "nbconvert_exporter": "python",
   "pygments_lexer": "ipython2",
   "version": "2.7.6"
  }
 },
 "nbformat": 4,
 "nbformat_minor": 5
}
